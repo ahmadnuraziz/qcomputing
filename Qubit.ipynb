{
 "cells": [
  {
   "cell_type": "code",
   "execution_count": 1,
   "metadata": {
    "collapsed": false
   },
   "outputs": [],
   "source": [
    "import numpy as np\n",
    "qubit = np.asarray([[1,0],[0,1]])"
   ]
  },
  {
   "cell_type": "markdown",
   "metadata": {},
   "source": [
    "## Qubit generator"
   ]
  },
  {
   "cell_type": "code",
   "execution_count": 2,
   "metadata": {
    "collapsed": true
   },
   "outputs": [],
   "source": [
    "class Qubit():\n",
    "    name = 'Qubit Object'\n",
    "    def __init__(self,num_qubit=1,*state):         \n",
    "        if state == ():\n",
    "            print(\"Please specifies qubit state! Example for two-qubits state 00: [0,0]\")\n",
    "        else:\n",
    "            self.num_qubit = num_qubit\n",
    "            self.state = state\n",
    "            self.matrix = Qubit.generate(self)\n",
    "        \n",
    "    def generate(self):\n",
    "        global qubit\n",
    "        obj = qubit[[self.state[0][0]]]\n",
    "        if(len(self.state[0])>1):\n",
    "            for i in range(1,len(self.state[0])):\n",
    "                obj = np.tensordot(obj,qubit[self.state[0][i]],0)\n",
    "        return obj.reshape(2**self.num_qubit,1)    "
   ]
  },
  {
   "cell_type": "markdown",
   "metadata": {},
   "source": [
    "## Quantum Gate"
   ]
  },
  {
   "cell_type": "code",
   "execution_count": 58,
   "metadata": {
    "collapsed": true
   },
   "outputs": [],
   "source": [
    "class Gate:\n",
    "    def __init__(self,obj):\n",
    "        try:\n",
    "            test = obj.name\n",
    "            self.obj = obj\n",
    "            self.obj_m = obj.matrix\n",
    "        except:\n",
    "            print(\"Argument must be quantum object\")"
   ]
  },
  {
   "cell_type": "markdown",
   "metadata": {},
   "source": [
    "### Single-qubit gate"
   ]
  },
  {
   "cell_type": "code",
   "execution_count": 59,
   "metadata": {
    "collapsed": false
   },
   "outputs": [],
   "source": [
    "class Pauli(Gate):\n",
    "    sigmaX_ = np.array([[0,1],[1,0]])\n",
    "    sigmaY_ = np.array([[0,-1j],[1j,0]])\n",
    "    sigmaZ_ = np.array([[1,0],[0,-1]])\n",
    "    \n",
    "    def sigmaX(self):\n",
    "        result = np.dot(np.array([[0,1],[1,0]]),self.matrix)\n",
    "        self.matrix = result\n",
    "        for i in range(len(qubit)):\n",
    "            if np.all(self.matrix== qubit[i].reshape(2,1)):\n",
    "                self.state[0][0] = i\n",
    "        return self.matrix\n",
    "    \n",
    "    def sigmaY(self):\n",
    "        result = np.dot(np.array([[0,-1j],[1j,0]]),self.matrix)\n",
    "        self.matrix = result\n",
    "        for i in range(len(qubit)):\n",
    "            if np.all(self.matrix== qubit[i].reshape(2,1)):\n",
    "                self.state[0][0] = i\n",
    "        return self.matrix\n",
    "    \n",
    "    def sigmaZ(self):\n",
    "        result = np.dot(np.array([[1,0],[0,-1]]),self.matrix)\n",
    "        self.matrix = result\n",
    "        for i in range(len(qubit)):\n",
    "            if np.all(self.matrix== qubit[i].reshape(2,1)):\n",
    "                self.state[0][0] = i\n",
    "        return self.matrix"
   ]
  },
  {
   "cell_type": "code",
   "execution_count": 125,
   "metadata": {
    "collapsed": true
   },
   "outputs": [],
   "source": [
    "class I(Gate):\n",
    "    M = np.identity(2).astype(int)\n",
    "    def act(self):\n",
    "        result = np.dot(np.identity(2),self.matrix).astype(int)\n",
    "        self.matrix = result\n",
    "        for i in range(len(qubit)):\n",
    "            if np.all(self.matrix== qubit[i].reshape(2,1)):\n",
    "                self.state[0][0] = i\n",
    "        return self.matrix"
   ]
  },
  {
   "cell_type": "code",
   "execution_count": 100,
   "metadata": {
    "collapsed": false
   },
   "outputs": [],
   "source": [
    "class U_Matrix(Gate):\n",
    "    def X(theta):\n",
    "        X = np.identity(2).astype(int)*np.cos(theta/2) - 1j*np.sin(theta/2)*Pauli.sigmaX_\n",
    "        return X\n",
    "    def Y(theta):\n",
    "        Y = np.identity(2).astype(int)*np.cos(theta/2) - 1j*np.sin(theta/2)*Pauli.sigmaY_\n",
    "        return Y\n",
    "    def Z(theta):\n",
    "        Z = np.identity(2).astype(int)*np.cos(theta/2) - 1j*np.sin(theta/2)*Pauli.sigmaZ_\n",
    "        return Z\n",
    "    \n",
    "    def act(self,var,theta):    \n",
    "        if var=='X':\n",
    "            opr = Pauli.sigmaX_\n",
    "        elif var=='Y':\n",
    "            opr = Pauli.sigmaY_\n",
    "        else:\n",
    "            opr = Pauli.sigmaZ_\n",
    "        matrix = np.identity(2)*np.cos(theta/2) - 1j*(np.sin(theta/2))*opr\n",
    "        result = np.dot(matrix,self.matrix)\n",
    "        self.matrix = result.astype(int)\n",
    "        return self.matrix"
   ]
  },
  {
   "cell_type": "code",
   "execution_count": 101,
   "metadata": {
    "collapsed": false
   },
   "outputs": [],
   "source": [
    "class Phase(Gate):\n",
    "    def M(theta):\n",
    "        matrix = np.array([[1,0],[0,np.cos(theta)+1j*np.sin(theta)]])\n",
    "        return matrix\n",
    "    \n",
    "    def act(self,theta):\n",
    "        matrix = Phase.Phase_M(theta)\n",
    "        result = np.dot(matrix,self.matrix)\n",
    "        self.matrix = result\n",
    "        return self.matrix"
   ]
  },
  {
   "cell_type": "code",
   "execution_count": 102,
   "metadata": {
    "collapsed": false
   },
   "outputs": [],
   "source": [
    "class H(Gate):\n",
    "    M = np.dot(Pauli.sigmaX_,U_Matrix.Y(np.pi/2))\n",
    "    \n",
    "    def act(self):\n",
    "        result = np.dot(H.M,self.matrix)\n",
    "        self.matrix = result\n",
    "        return self.matrix"
   ]
  },
  {
   "cell_type": "markdown",
   "metadata": {},
   "source": [
    "### Two-qubit gate"
   ]
  },
  {
   "cell_type": "code",
   "execution_count": 78,
   "metadata": {
    "collapsed": true
   },
   "outputs": [],
   "source": [
    "class CP(Gate):\n",
    "    def M(theta=0):\n",
    "        phi = np.cos(theta) + 1j*np.sin(theta)\n",
    "        matrix = np.array([[1,0,0,0],[0,1,0,0],[0,0,1,0],[0,0,0,phi]]) \n",
    "        return matrix.astype(int)\n",
    "    \n",
    "    def act(self,theta=0):\n",
    "        result = np.dot(CP.M(theta),self.matrix)\n",
    "        self.matrix = result\n",
    "        return self.matrix"
   ]
  },
  {
   "cell_type": "code",
   "execution_count": 86,
   "metadata": {
    "collapsed": true
   },
   "outputs": [],
   "source": [
    "class CNOT(Gate):\n",
    "    M = np.array([[1,0,0,0],[0,1,0,0],[0,0,0,1],[0,0,1,0]])\n",
    "    def act(self):\n",
    "        result = np.dot(CNOT.M,self.matrix)\n",
    "        self.matrix = result\n",
    "        return self.matrix"
   ]
  },
  {
   "cell_type": "markdown",
   "metadata": {},
   "source": [
    "### Three-qubit gate"
   ]
  },
  {
   "cell_type": "code",
   "execution_count": 90,
   "metadata": {
    "collapsed": false
   },
   "outputs": [],
   "source": [
    "class Toffoli(Gate):\n",
    "    matrix = np.identity(8)\n",
    "    matrix[6,7] = matrix[7,6] = 1\n",
    "    matrix[6,6] = matrix[7,7] = 0\n",
    "    M = matrix\n",
    "    \n",
    "    def act(self):\n",
    "        result = np.dot(Toffoli.M,self.matrix)\n",
    "        self.matrix = result\n",
    "        return self.matrix"
   ]
  },
  {
   "cell_type": "code",
   "execution_count": 94,
   "metadata": {
    "collapsed": true
   },
   "outputs": [],
   "source": [
    "class Fredkin(Gate):\n",
    "    matrix = np.identity(8)\n",
    "    matrix[5,6]=matrix[6,5]=1\n",
    "    matrix[5,5]=matrix[6,6]=0\n",
    "    M = matrix\n",
    "    \n",
    "    def act(self):\n",
    "        result = np.dot(Fredkin.M,self.matrix)\n",
    "        self.matrix = result\n",
    "        return self.matrix"
   ]
  },
  {
   "cell_type": "markdown",
   "metadata": {},
   "source": [
    "## Bell States Construction"
   ]
  },
  {
   "cell_type": "code",
   "execution_count": 99,
   "metadata": {
    "collapsed": true
   },
   "outputs": [],
   "source": [
    "q = Qubit(2,[0,0])"
   ]
  },
  {
   "cell_type": "code",
   "execution_count": 157,
   "metadata": {
    "collapsed": false
   },
   "outputs": [],
   "source": [
    "q1 = qubit[q.state[0][0]].reshape(2,1)\n",
    "H1 = np.dot(H.M,q1)\n",
    "qs = np.tensordot(H1,qubit[q.state[0][1]].reshape(2,1),0).reshape(4,-1)\n",
    "bell_state = np.real(np.dot(CNOT.M,qs))"
   ]
  },
  {
   "cell_type": "code",
   "execution_count": 158,
   "metadata": {
    "collapsed": false
   },
   "outputs": [
    {
     "data": {
      "text/plain": [
       "array([[ 0.70710678],\n",
       "       [ 0.        ],\n",
       "       [ 0.        ],\n",
       "       [ 0.70710678]])"
      ]
     },
     "execution_count": 158,
     "metadata": {},
     "output_type": "execute_result"
    }
   ],
   "source": [
    "bell_state "
   ]
  }
 ],
 "metadata": {
  "kernelspec": {
   "display_name": "Python 3",
   "language": "python",
   "name": "python3"
  },
  "language_info": {
   "codemirror_mode": {
    "name": "ipython",
    "version": 3
   },
   "file_extension": ".py",
   "mimetype": "text/x-python",
   "name": "python",
   "nbconvert_exporter": "python",
   "pygments_lexer": "ipython3",
   "version": "3.6.0"
  }
 },
 "nbformat": 4,
 "nbformat_minor": 2
}
